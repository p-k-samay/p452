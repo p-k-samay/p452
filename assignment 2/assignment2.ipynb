{
 "cells": [
  {
   "cell_type": "code",
   "execution_count": 1,
   "metadata": {},
   "outputs": [],
   "source": [
    "import numpy as np\n",
    "import scipy as sp\n",
    "import math as m\n",
    "from prettytable import PrettyTable\n",
    "from Library_asgn2 import read_matrices\n",
    "mat_list = read_matrices('input_matrices.txt',delimiter=',')"
   ]
  },
  {
   "cell_type": "markdown",
   "metadata": {},
   "source": [
    "<hr>\n",
    "<h2> <b>Question 1</b> </h2>\n"
   ]
  },
  {
   "cell_type": "code",
   "execution_count": 2,
   "metadata": {},
   "outputs": [
    {
     "name": "stdout",
     "output_type": "stream",
     "text": [
      "A is a symmetric Matrix,So we can proceed with Cholesky Decomposition and Gauss Seidel Method\n",
      "The solution of the syatem of the linear equations are tabluated below:\n",
      "\n",
      "+----------+----------+--------------+\n",
      "| Variable | Cholesky | Gauss Seidel |\n",
      "+----------+----------+--------------+\n",
      "|   x_1    | 1.000000 |   1.000000   |\n",
      "|   x_2    | 1.000000 |   1.000000   |\n",
      "|   x_3    | 1.000000 |   1.000000   |\n",
      "|   x_4    | 1.000000 |   1.000000   |\n",
      "|   x_5    | 1.000000 |   1.000000   |\n",
      "|   x_6    | 1.000000 |   1.000000   |\n",
      "+----------+----------+--------------+\n",
      "The Number of Iterations for Gauss Seidel Method is:  16\n"
     ]
    }
   ],
   "source": [
    "from Library_asgn2 import Cholesky_solve, check_symmetry,print_matrix,Gauss_seidel_solve\n",
    "\n",
    "A = mat_list[0]\n",
    "B = mat_list[1]\n",
    "\n",
    "q1_flag = check_symmetry(A)\n",
    "if q1_flag == True:\n",
    "    print(\"A is a symmetric Matrix,So we can proceed with Cholesky Decomposition and Gauss Seidel Method\")\n",
    "else:\n",
    "    raise ValueError(\"A is not a symmetric Matrix\")\n",
    "\n",
    "A1 = np.copy(A).tolist()    # We need to make a copy of A as Cholesky\n",
    "B1 = np.copy(B).tolist()    # Decomposition modifies the matrix A and B\n",
    "Y_cholesky_q1 = Cholesky_solve(A1,B)\n",
    "\n",
    "tolerence_q1 = 1e-6\n",
    "Y_GS_q1,steps_q1 = Gauss_seidel_solve(A,B,tolerence_q1) \n",
    "\n",
    "print(\"The solution of the syatem of the linear equations are tabluated below:\\n\")\n",
    "p=PrettyTable()\n",
    "p.field_names = [\"Variable\", \"Cholesky\", \"Gauss Seidel\"]\n",
    "\n",
    "for i in range(len(Y_cholesky_q1)):\n",
    "    p.add_row([f\"x_{i+1}\",\"{:.6f}\".format(Y_cholesky_q1[i][0]),\"{:.6f}\".format(Y_GS_q1[i][0])])\n",
    "print(p)\n",
    "print(\"The Number of Iterations for Gauss Seidel Method is: \",steps_q1)\n",
    "del A,A1,B,B1,Y_cholesky_q1,Y_GS_q1,steps_q1,p,q1_flag,tolerence_q1\n",
    "del Cholesky_solve,check_symmetry,print_matrix,Gauss_seidel_solve"
   ]
  },
  {
   "cell_type": "markdown",
   "metadata": {},
   "source": [
    "<hr>\n",
    "<h2> <b> Question 2 </b> </h2>\n"
   ]
  },
  {
   "cell_type": "code",
   "execution_count": 3,
   "metadata": {},
   "outputs": [
    {
     "name": "stdout",
     "output_type": "stream",
     "text": [
      "The solution of the syatem of the linear equations are tabluated below:\n",
      "\n",
      "+----------+--------------+------------------+\n",
      "| Variable | Gauss Jordan | LU Decomposition |\n",
      "+----------+--------------+------------------+\n",
      "|   x_1    |    2.6746    |      2.6746      |\n",
      "|   x_2    |    3.7119    |      3.7119      |\n",
      "|   x_3    |   -0.0533    |     -0.0533      |\n",
      "|   x_4    |   -0.0744    |     -0.0744      |\n",
      "|   x_5    |    5.2591    |      5.2591      |\n",
      "+----------+--------------+------------------+\n"
     ]
    }
   ],
   "source": [
    "from Library_asgn2 import gauss_jordan_solve,LU_Solve_eqn\n",
    "A = mat_list[2]\n",
    "B = mat_list[3]\n",
    "Y_GJ_qn2 = gauss_jordan_solve(np.copy(A).tolist(),np.copy(B).tolist())\n",
    "Y_LU_qn2 = LU_Solve_eqn(np.copy(A).tolist(),np.copy(B).tolist())\n",
    "p=PrettyTable()\n",
    "p.field_names = [\"Variable\", \"Gauss Jordan\", \"LU Decomposition\"]\n",
    "for i in range(len(Y_GJ_qn2)):\n",
    "    p.add_row([f\"x_{i+1}\",\"{:.4f}\".format(Y_GJ_qn2[i][0]),\"{:.4f}\".format(Y_LU_qn2[i][0])])\n",
    "print(\"The solution of the syatem of the linear equations are tabluated below:\\n\")    \n",
    "print(p)\n",
    "del A,B,Y_GJ_qn2,Y_LU_qn2,p\n",
    "del gauss_jordan_solve,LU_Solve_eqn"
   ]
  },
  {
   "cell_type": "markdown",
   "metadata": {},
   "source": [
    "<hr>\n",
    "<h2> <b> Question 3 </b> </h2>\n"
   ]
  },
  {
   "cell_type": "code",
   "execution_count": 4,
   "metadata": {},
   "outputs": [
    {
     "name": "stdout",
     "output_type": "stream",
     "text": [
      "The Number of Iterations for Conjugate Gradient Method is 6 which is same as the length of the A\n",
      "The solution of the syatem of the linear equations are tabluated below:\n",
      "\n",
      "+----------+----------+\n",
      "| Variable | Solution |\n",
      "+----------+----------+\n",
      "|   x_1    | -0.7245  |\n",
      "|   x_2    |  0.2177  |\n",
      "|   x_3    |  0.9666  |\n",
      "|   x_4    | -0.6857  |\n",
      "|   x_5    | -0.0382  |\n",
      "|   x_6    |  0.6488  |\n",
      "+----------+----------+\n"
     ]
    }
   ],
   "source": [
    "from Library_asgn2 import conjugate_gradient_solve,print_matrix\n",
    "A = np.copy(mat_list[4]).tolist()\n",
    "B = np.copy(mat_list[5]).tolist()\n",
    "Y_CG_qn3,steps_qn3 = conjugate_gradient_solve(A,B,[[0],[0],[0],[0],[0],[0]],1e-6)\n",
    "print(\"The Number of Iterations for Conjugate Gradient Method is\",steps_qn3,\"which is same as the length of the A\")\n",
    "p=PrettyTable()\n",
    "p.field_names = [\"Variable\", \"Solution\"]\n",
    "for i in range(len(Y_CG_qn3)):\n",
    "    p.add_row([f\"x_{i+1}\",\"{:.4f}\".format(Y_CG_qn3[i][0])])\n",
    "print(\"The solution of the syatem of the linear equations are tabluated below:\\n\")\n",
    "print(p)"
   ]
  },
  {
   "cell_type": "markdown",
   "metadata": {},
   "source": [
    "<p> Inorder to find the inverse of the matrix A using conjugate gradient Method, we need to set the matrix B as Identity matrix, the guess used here is a matrix with all the elements 1 </p>"
   ]
  },
  {
   "cell_type": "code",
   "execution_count": 5,
   "metadata": {},
   "outputs": [
    {
     "name": "stdout",
     "output_type": "stream",
     "text": [
      "The matrix A is shown below:\n",
      "\n",
      "[[ 2. -1.  0.  0.  0.  0.]\n",
      " [-1.  4. -1.  0. -1.  0.]\n",
      " [ 0. -1.  4.  0.  0. -1.]\n",
      " [ 0.  0.  0.  2. -1.  0.]\n",
      " [ 0. -1.  0. -1.  4. -1.]\n",
      " [ 0.  0. -1.  0. -1.  4.]]\n",
      "\n",
      "\n",
      "The Number of Iterations for Conjugate Gradient Method is 6 which is same as the length of the A\n",
      "The inverse of the Matrix A is shown below:\n",
      "\n",
      "[[0.5868 0.1735 0.0501 0.0286 0.0572 0.0268]\n",
      " [0.1735 0.347  0.1002 0.0572 0.1145 0.0537]\n",
      " [0.0501 0.1002 0.297  0.0268 0.0537 0.0877]\n",
      " [0.0286 0.0572 0.0268 0.5868 0.1735 0.0501]\n",
      " [0.0572 0.1145 0.0537 0.1735 0.347  0.1002]\n",
      " [0.0268 0.0537 0.0877 0.0501 0.1002 0.297 ]]\n",
      "\n",
      "\n",
      "For the verification of the result the product of A and A_inv is shown below:\n",
      "\n",
      "[[ 1.  0. -0. -0.  0. -0.]\n",
      " [-0.  1.  0. -0. -0. -0.]\n",
      " [-0. -0.  1.  0.  0.  0.]\n",
      " [-0.  0. -0.  1.  0. -0.]\n",
      " [-0. -0. -0. -0.  1.  0.]\n",
      " [-0.  0. -0.  0.  0.  1.]]\n"
     ]
    }
   ],
   "source": [
    "B = np.eye(6).tolist()\n",
    "guess = np.ones((6,1)).tolist()\n",
    "print(\"The matrix A is shown below:\\n\")\n",
    "print(np.array(A))\n",
    "print(\"\\n\")\n",
    "A_inv,steps_qn3 = conjugate_gradient_solve(A,B,guess,1e-6)\n",
    "print(\"The Number of Iterations for Conjugate Gradient Method is\",steps_qn3,\"which is same as the length of the A\")\n",
    "print(\"The inverse of the Matrix A is shown below:\\n\")\n",
    "print(np.round(A_inv,4))\n",
    "print(\"\\n\")\n",
    "print(\"For the verification of the result the product of A and A_inv is shown below:\\n\")\n",
    "print(np.round(np.matmul(A,A_inv)))\n",
    "del A,B,Y_CG_qn3,steps_qn3,p,guess,A_inv,conjugate_gradient_solve,print_matrix\n",
    "del mat_list\n"
   ]
  },
  {
   "cell_type": "markdown",
   "metadata": {},
   "source": [
    "We can see that the inverse of A is given by the matrix A_inv as their product is the identity matrix."
   ]
  },
  {
   "cell_type": "markdown",
   "metadata": {},
   "source": [
    "<hr>\n",
    "<h2> <b> Question 4 </b> </h2>"
   ]
  },
  {
   "cell_type": "code",
   "execution_count": 10,
   "metadata": {},
   "outputs": [
    {
     "name": "stdout",
     "output_type": "stream",
     "text": [
      "The inverse of the Matrix A is shown below:\n",
      "\n",
      "[[3.38855294 4.25301082 4.77722784 ... 4.91926663 4.77722784 4.25301082]\n",
      " [4.25301082 3.38855294 4.25301082 ... 4.66776409 4.91926663 4.77722784]\n",
      " [4.77722784 4.25301082 3.38855294 ... 4.04284042 4.66776409 4.91926663]\n",
      " ...\n",
      " [4.91926663 4.66776409 4.04284042 ... 3.38855294 4.25301082 4.77722784]\n",
      " [4.77722784 4.91926663 4.66776409 ... 4.25301082 3.38855294 4.25301082]\n",
      " [4.25301082 4.77722784 4.91926663 ... 4.77722784 4.25301082 3.38855294]]\n",
      "\n",
      "\n",
      "The Number of Iterations for Conjugate Gradient Method is 26 which is same as the length of the A\n",
      "The product of A and A_inv is shown below:\n",
      "\n",
      "[[ 1. -0.  0. ...  0. -0. -0.]\n",
      " [-0.  1. -0. ... -0.  0. -0.]\n",
      " [-0. -0.  1. ... -0. -0. -0.]\n",
      " ...\n",
      " [-0. -0. -0. ...  1. -0.  0.]\n",
      " [-0. -0. -0. ... -0.  1. -0.]\n",
      " [-0. -0. -0. ...  0. -0.  1.]]\n",
      "\n",
      "\n",
      "The inverse of the Matrix A is saved in the file Q4-A_inv.txt\n"
     ]
    }
   ],
   "source": [
    "def Kronecker_delta(i, j):\n",
    "    if i == j:\n",
    "        return 1\n",
    "    else:\n",
    "        return 0\n",
    "n=50\n",
    "\n",
    "def A_ij(i, j):\n",
    "    m = 0.2 \n",
    "    num = 0.5 * (Kronecker_delta(i + 1, j) + Kronecker_delta(i - 1, j) - 2 * Kronecker_delta(i, j)) + m*m *Kronecker_delta(i, j)\n",
    "    return num if not ((i == 0 and j == n-1) or (i == n-1 and j == 0)) else 0.5\n",
    "def matrix_multiply_fn_with_matrix(A_ij, B):\n",
    "    rows_A = len(B)\n",
    "    cols_A = len(B[0])\n",
    "\n",
    "    result = []\n",
    "    for i in range(rows_A):\n",
    "        row = []\n",
    "        for j in range(cols_A):\n",
    "            element = sum(A_ij(i, k) * B[k][j] for k in range(len(B)))\n",
    "            row.append(element)\n",
    "        result.append(row)\n",
    "\n",
    "    return result\n",
    "def conjugate_gradient_solve(A: callable,B: list,guess: list,T: float,n: int):\n",
    "    x0=guess\n",
    "    r0 = np.add(B, -1 * np.array(matrix_multiply_fn_with_matrix(A, x0)))\n",
    "    d0 = np.copy(r0)\n",
    "    i=1\n",
    "    reslist = [np.linalg.norm(r0)]\n",
    "    while True:\n",
    "        alpha1 = np.matmul(np.transpose(r0), r0) / np.matmul(np.transpose(d0), np.array(matrix_multiply_fn_with_matrix(A, d0)))\n",
    "        x1 = np.add(x0, alpha1[0][0]*d0)\n",
    "        r1 = np.add(r0, -1 * alpha1[0][0] * np.array(matrix_multiply_fn_with_matrix(A, d0)))\n",
    "        reslist.append(np.linalg.norm(r1))\n",
    "        if np.linalg.norm(r1) < T and i<=n:\n",
    "            return x1.tolist(),reslist,i\n",
    "        elif i>n:\n",
    "            print(\"Maybe the matrix A dosent satisfy the conditions for the Conjugate Gradient Method\")\n",
    "            return None\n",
    "        else: \n",
    "            beta1 = np.matmul(np.transpose(r1), r1) / np.matmul(np.transpose(r0), r0)\n",
    "            d1 = np.add(r1, beta1[0][0] * d0)\n",
    "            x0 = x1\n",
    "            del x1\n",
    "            r0 = r1\n",
    "            del r1\n",
    "            d0 = d1\n",
    "            del d1\n",
    "            i+=1\n",
    "n=50\n",
    "inv,res,iter = conjugate_gradient_solve(A_ij,np.eye(50).tolist(),[[1] for i in range(50)],1e-6,50)\n",
    "print(\"The inverse of the Matrix A is shown below:\\n\")\n",
    "print(np.array(inv))\n",
    "print(\"\\n\")\n",
    "print(\"The Number of Iterations for Conjugate Gradient Method is\",iter,\"which is same as the length of the A\")\n",
    "print(\"The product of A and A_inv is shown below:\\n\")\n",
    "print(np.round(matrix_multiply_fn_with_matrix(A_ij,inv)))\n",
    "# The Matrix is saved in a file\n",
    "np.savetxt('Q4-A_inv.txt',np.round(np.array(inv),6),delimiter='\\t',fmt='%1.6f')\n",
    "print(\"\\n\")\n",
    "print(\"The inverse of the Matrix A is saved in the file Q4-A_inv.txt\")"
   ]
  },
  {
   "cell_type": "code",
   "execution_count": 12,
   "metadata": {},
   "outputs": [
    {
     "data": {
      "image/png": "[encoded data removed]",
      "text/plain": [
       "<Figure size 1000x600 with 1 Axes>"
      ]
     },
     "metadata": {},
     "output_type": "display_data"
    }
   ],
   "source": [
    "import matplotlib.pyplot as plt\n",
    "plt.figure(figsize=(10,6))\n",
    "plt.plot([i for i in range(iter+1)],res)\n",
    "plt.xlabel(\"Number of Iterations i\")\n",
    "plt.ylabel(\"Residuals at each i\")\n",
    "plt.title(\"Plot of Residuals at each step\")\n",
    "plt.grid()\n",
    "plt.show()"
   ]
  }
 ],
 "metadata": {
  "kernelspec": {
   "display_name": "Python 3",
   "language": "python",
   "name": "python3"
  },
  "language_info": {
   "codemirror_mode": {
    "name": "ipython",
    "version": 3
   },
   "file_extension": ".py",
   "mimetype": "text/x-python",
   "name": "python",
   "nbconvert_exporter": "python",
   "pygments_lexer": "ipython3",
   "version": "3.12.2"
  }
 },
 "nbformat": 4,
 "nbformat_minor": 2
}
